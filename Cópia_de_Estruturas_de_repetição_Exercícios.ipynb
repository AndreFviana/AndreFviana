{
  "nbformat": 4,
  "nbformat_minor": 0,
  "metadata": {
    "colab": {
      "name": "Cópia de Estruturas de repetição - Exercícios",
      "provenance": [],
      "include_colab_link": true
    },
    "kernelspec": {
      "name": "python3",
      "display_name": "Python 3"
    },
    "language_info": {
      "name": "python"
    }
  },
  "cells": [
    {
      "cell_type": "markdown",
      "metadata": {
        "id": "view-in-github",
        "colab_type": "text"
      },
      "source": [
        "<a href=\"https://colab.research.google.com/github/AndreFviana/AndreFviana/blob/main/C%C3%B3pia_de_Estruturas_de_repeti%C3%A7%C3%A3o_Exerc%C3%ADcios.ipynb\" target=\"_parent\"><img src=\"https://colab.research.google.com/assets/colab-badge.svg\" alt=\"Open In Colab\"/></a>"
      ]
    },
    {
      "cell_type": "markdown",
      "metadata": {
        "id": "ejAscLZ0U5DO"
      },
      "source": [
        "# Estruturas de repetição - Exercícios"
      ]
    },
    {
      "cell_type": "markdown",
      "metadata": {
        "id": "vj0gIq6vYBTl"
      },
      "source": [
        "Crie um código que imprima todos os nomes da lista abaixo"
      ]
    },
    {
      "cell_type": "code",
      "metadata": {
        "id": "koim5bBNYCFJ"
      },
      "source": [
        "nomes = ['Felipe','Marcela','Heloisa','Bruno','Vitoria','Barbara','Andreza','Bernardo']"
      ],
      "execution_count": null,
      "outputs": []
    },
    {
      "cell_type": "code",
      "metadata": {
        "id": "7Ryz17vvYCk0",
        "colab": {
          "base_uri": "https://localhost:8080/"
        },
        "outputId": "e9f64c9f-0df2-4d10-f382-d7e56a615893"
      },
      "source": [
        "for i in nomes:\n",
        "  print(i)"
      ],
      "execution_count": null,
      "outputs": [
        {
          "output_type": "stream",
          "name": "stdout",
          "text": [
            "Felipe\n",
            "Marcela\n",
            "Heloisa\n",
            "Bruno\n",
            "Vitoria\n",
            "Barbara\n",
            "Andreza\n",
            "Bernardo\n"
          ]
        }
      ]
    },
    {
      "cell_type": "code",
      "metadata": {
        "id": "QqwySGEPYCb_"
      },
      "source": [
        "#@title  { display-mode: \"form\" }\n",
        "for nome in nomes:\n",
        "  print(nome)"
      ],
      "execution_count": null,
      "outputs": []
    },
    {
      "cell_type": "markdown",
      "metadata": {
        "id": "F1-K6TaeUm03"
      },
      "source": [
        "## Da lista de números abaixo, crie uma estrutura de repetição usando `for` encadeada com uma estrutura condicional que imprima:\n",
        "\n",
        "* `É múltiplo de 3` se o número for múltiplo de 3\n",
        "* `É múltiplo de 5` se o número for múltiplo de 5\n",
        "* `É outro número` caso contrario"
      ]
    },
    {
      "cell_type": "code",
      "metadata": {
        "id": "xS6QtEHxUd1U"
      },
      "source": [
        "numeros_ex1 = [2,3,5,7,8,10,12,14,15,17]"
      ],
      "execution_count": null,
      "outputs": []
    },
    {
      "cell_type": "code",
      "metadata": {
        "id": "LhXUzK_CU30E",
        "colab": {
          "base_uri": "https://localhost:8080/"
        },
        "outputId": "53131d54-53ed-4a67-e5f4-cd4c92fd9fc5"
      },
      "source": [
        "for ns in numeros_ex1:\n",
        "  if ns %3 ==0:\n",
        "    print('È multiplo de 3')\n",
        "  elif ns %5 ==0:\n",
        "      print('È multiplo de 5')\n",
        "else:\n",
        "      print('È outro número')"
      ],
      "execution_count": null,
      "outputs": [
        {
          "output_type": "stream",
          "name": "stdout",
          "text": [
            "È multiplo de 3\n",
            "È multiplo de 5\n",
            "È multiplo de 5\n",
            "È multiplo de 3\n",
            "È multiplo de 3\n",
            "È outro número\n"
          ]
        }
      ]
    },
    {
      "cell_type": "code",
      "metadata": {
        "id": "XsrbY7W5U95y"
      },
      "source": [
        "#@title  { display-mode: \"form\" }\n",
        "for i in numeros_ex1:\n",
        "  if i % 3 == 0:\n",
        "    print(\"É múltiplo de 3\")\n",
        "  elif i % 5 == 0:\n",
        "    print(\"É múltiplo de 5\")\n",
        "  else:\n",
        "    print('É outro número')"
      ],
      "execution_count": null,
      "outputs": []
    },
    {
      "cell_type": "markdown",
      "metadata": {
        "id": "KPfAm-wTVxkR"
      },
      "source": [
        "## Da lista de números abaixo, crie uma nova lista que contenha apenas os números múltiplos de 7"
      ]
    },
    {
      "cell_type": "code",
      "metadata": {
        "id": "sJie8phwVzit"
      },
      "source": [
        "numeros_ex2 = [4,5,7,8,10,14,17,21,31,45,49,70]"
      ],
      "execution_count": null,
      "outputs": []
    },
    {
      "cell_type": "code",
      "metadata": {
        "id": "Ax2i6zJTV3jp",
        "colab": {
          "base_uri": "https://localhost:8080/"
        },
        "outputId": "4cf2e587-32d6-40f1-8064-33a9d76db80c"
      },
      "source": [
        "nova_lista =[]\n",
        "for nms in numeros_ex2:\n",
        "  if nms %7 ==0:\n",
        "    nova_lista.append(nms)\n",
        "print(nova_lista)"
      ],
      "execution_count": null,
      "outputs": [
        {
          "output_type": "stream",
          "name": "stdout",
          "text": [
            "[7, 14, 21, 49, 70]\n"
          ]
        }
      ]
    },
    {
      "cell_type": "code",
      "metadata": {
        "id": "pA49PD4OV4T_"
      },
      "source": [
        "#@title  { display-mode: \"form\" }\n",
        "nova_lista = []\n",
        "\n",
        "for i in numeros_ex2:\n",
        "  if i % 7 == 0:\n",
        "    nova_lista.append(i)\n",
        "\n",
        "nova_lista"
      ],
      "execution_count": null,
      "outputs": []
    },
    {
      "cell_type": "code",
      "metadata": {
        "id": "5xm5mmU1Wl2E"
      },
      "source": [
        "#@title  { display-mode: \"form\" }\n",
        "\n",
        "#Com list comprehension\n",
        "[i for i in numeros_ex2 if i % 7==0]"
      ],
      "execution_count": null,
      "outputs": []
    },
    {
      "cell_type": "markdown",
      "metadata": {
        "id": "5Jp9Uv2yYIq6"
      },
      "source": [
        "### **for** loop com **f-string**. Pegue a lista de nomes abaixo e com um `for` loop, imprima: \"Olá, **nome**!\". Substituindo o nome por cada elemento da lista"
      ]
    },
    {
      "cell_type": "code",
      "metadata": {
        "id": "9MsnpNwyYwmH"
      },
      "source": [
        "#Rode essa célula\n",
        "nomes = ['Sócrates', 'Pitágoras', 'Aristóteles', 'Platão', 'Parmênides']"
      ],
      "execution_count": null,
      "outputs": []
    },
    {
      "cell_type": "code",
      "metadata": {
        "id": "5Q1124WBZQhW",
        "colab": {
          "base_uri": "https://localhost:8080/"
        },
        "outputId": "25e570f5-8c03-4880-eeef-98d86b373feb"
      },
      "source": [
        "for nes in nomes:\n",
        "  print(f'Olá, {nes}!')"
      ],
      "execution_count": null,
      "outputs": [
        {
          "output_type": "stream",
          "name": "stdout",
          "text": [
            "Olá, Sócrates!\n",
            "Olá, Pitágoras!\n",
            "Olá, Aristóteles!\n",
            "Olá, Platão!\n",
            "Olá, Parmênides!\n"
          ]
        }
      ]
    },
    {
      "cell_type": "code",
      "metadata": {
        "id": "Csa0oXlHZRXR"
      },
      "source": [
        "#@title  { display-mode: \"form\" }\n",
        "\n",
        "for nome in nomes:\n",
        "  print(f\"Olá, {nome}!\")"
      ],
      "execution_count": null,
      "outputs": []
    },
    {
      "cell_type": "code",
      "metadata": {
        "id": "KcTFqeWcZaoE"
      },
      "source": [
        ""
      ],
      "execution_count": null,
      "outputs": []
    },
    {
      "cell_type": "markdown",
      "metadata": {
        "id": "YhVU7x_BZxMU"
      },
      "source": [
        "### (Desafio) Dado a lista `numeros` abaixo. Faça um `for` loop que conte quantos são os números pares e quantos são os números ímpares"
      ]
    },
    {
      "cell_type": "code",
      "metadata": {
        "id": "Nw2WO3-jaVFS"
      },
      "source": [
        "numeros = [1, 2, 3, 4, 5, 6, 7, 8, 9]\n",
        "numeros_impares = 0\n",
        "numeros_pares = 0"
      ],
      "execution_count": null,
      "outputs": []
    },
    {
      "cell_type": "code",
      "metadata": {
        "id": "w4GpE3omaYZR",
        "colab": {
          "base_uri": "https://localhost:8080/"
        },
        "outputId": "082b9968-d637-4efc-9d92-2153b67358b3"
      },
      "source": [
        "for n in numeros:\n",
        "  if n % 2 ==0:\n",
        "    numeros_impares = numeros_impares +1\n",
        "  else:\n",
        "      numeros_pares = numeros_pares +1\n",
        "  print(f'Quantidade de números pares: {numeros_pares}')\n",
        "  print(f'Quantidade de números impares: {numeros_impares}')\n",
        "print('final do código')"
      ],
      "execution_count": null,
      "outputs": [
        {
          "output_type": "stream",
          "name": "stdout",
          "text": [
            "Quantidade de números pares: 1\n",
            "Quantidade de números impares: 0\n",
            "Quantidade de números pares: 1\n",
            "Quantidade de números impares: 1\n",
            "Quantidade de números pares: 2\n",
            "Quantidade de números impares: 1\n",
            "Quantidade de números pares: 2\n",
            "Quantidade de números impares: 2\n",
            "Quantidade de números pares: 3\n",
            "Quantidade de números impares: 2\n",
            "Quantidade de números pares: 3\n",
            "Quantidade de números impares: 3\n",
            "Quantidade de números pares: 4\n",
            "Quantidade de números impares: 3\n",
            "Quantidade de números pares: 4\n",
            "Quantidade de números impares: 4\n",
            "Quantidade de números pares: 5\n",
            "Quantidade de números impares: 4\n",
            "final do código\n"
          ]
        }
      ]
    },
    {
      "cell_type": "code",
      "metadata": {
        "id": "e-ND4OrqZxna"
      },
      "source": [
        "#@title  { display-mode: \"form\" }\n",
        "for x in numeros:\n",
        "  if x % 2 == 0:\n",
        "    numeros_impares = numeros_impares + 1\n",
        "  else:\n",
        "    numeros_pares = numeros_pares + 1\n",
        "print(f\"Quantidade de numeros pares: {numeros_pares}\")\n",
        "print(f\"Quantidade de numeros impares: {numeros_impares}\")\n"
      ],
      "execution_count": null,
      "outputs": []
    },
    {
      "cell_type": "code",
      "metadata": {
        "id": "NO-tIo9LZ3lG"
      },
      "source": [
        ""
      ],
      "execution_count": null,
      "outputs": []
    }
  ]
}