{
  "nbformat": 4,
  "nbformat_minor": 0,
  "metadata": {
    "colab": {
      "name": "Cópia de Desafio Python - TERA + XP - Andre ",
      "provenance": [],
      "collapsed_sections": [],
      "include_colab_link": true
    },
    "kernelspec": {
      "name": "python3",
      "display_name": "Python 3"
    },
    "language_info": {
      "name": "python"
    }
  },
  "cells": [
    {
      "cell_type": "markdown",
      "metadata": {
        "id": "view-in-github",
        "colab_type": "text"
      },
      "source": [
        "<a href=\"https://colab.research.google.com/github/AndreFviana/AndreFviana/blob/main/C%C3%B3pia_de_Desafio_Python_TERA_%2B_XP_Andre.ipynb\" target=\"_parent\"><img src=\"https://colab.research.google.com/assets/colab-badge.svg\" alt=\"Open In Colab\"/></a>"
      ]
    },
    {
      "cell_type": "markdown",
      "metadata": {
        "id": "VLHfFRbPVEAh"
      },
      "source": [
        "# Desafio Python - TERA + XP\n",
        "\n",
        "Olá! Que bom que você veio!<br>\n",
        "**INSTRUÇÕES**\n",
        "- Leia com atenção os enunciados\n",
        "- Se estiver com dúvida veja se as dicas que colocamos podem te ajudar\n",
        "- Se continuar com dúvida não tenha receio de reassistir a aula ou procurar no Google (Ex: `Como selecionar o primeiro elemento de uma lista em Python`)\n",
        "- **Não** coloque apenas o resultado. (Ex: `cubo=512` ou `primeiro_elemento='Arroz'`). Queremos ver a sua resolução!"
      ]
    },
    {
      "cell_type": "markdown",
      "metadata": {
        "id": "_UrFO1rEVR1E"
      },
      "source": [
        "\n",
        "### EXEMPLO) Considere que a aresta deste cubo tem 8cm. Calcule o volume total dessa peça. Guarde o resultado na variável `cubo`.\n",
        "\n",
        "![image](https://upload.wikimedia.org/wikipedia/commons/thumb/7/78/Hexahedron.jpg/280px-Hexahedron.jpg)\n",
        "\n",
        "\n",
        "Dica: Volume de um cubo é sua aresta elevada a terceira potência."
      ]
    },
    {
      "cell_type": "code",
      "metadata": {
        "colab": {
          "base_uri": "https://localhost:8080/"
        },
        "id": "XOeEw26G-Miy",
        "outputId": "ee370f25-d0b3-4875-9585-d10bfa1d35fa"
      },
      "source": [
        "aresta = 8\n",
        "volume_do_cubo = aresta**3\n",
        "cubo = volume_do_cubo\n",
        "print(cubo)\n",
        "\n"
      ],
      "execution_count": null,
      "outputs": [
        {
          "output_type": "stream",
          "name": "stdout",
          "text": [
            "512\n"
          ]
        }
      ]
    },
    {
      "cell_type": "code",
      "metadata": {
        "id": "dAHAPGZRU5Qs",
        "colab": {
          "base_uri": "https://localhost:8080/"
        },
        "outputId": "b528df8d-30a7-4c20-efe6-d4cc3b5667f2"
      },
      "source": [
        "\n",
        "cubo = 8**3\n",
        "cubo"
      ],
      "execution_count": null,
      "outputs": [
        {
          "output_type": "execute_result",
          "data": {
            "text/plain": [
              "512"
            ]
          },
          "metadata": {},
          "execution_count": 2
        }
      ]
    },
    {
      "cell_type": "markdown",
      "metadata": {
        "id": "EftNIMYlW0xz"
      },
      "source": [
        "\n",
        "### 1) Considere que o lado `a` deste retângulo tem 5cm e o lado `b`tem 8cm. Calcule a área total dessa peça. Guarde o resultado na variável `retangulo`.\n",
        "\n",
        "![image](https://upload.wikimedia.org/wikipedia/commons/3/3a/Rectangle.png)\n",
        "\n",
        "\n",
        "**Dica:** A área do retângulo é = `a * b`\n",
        "\n"
      ]
    },
    {
      "cell_type": "code",
      "metadata": {
        "id": "fpjmqw2nXm6C",
        "colab": {
          "base_uri": "https://localhost:8080/"
        },
        "outputId": "e202a875-bd74-4a31-ad08-55cf70344e4d"
      },
      "source": [
        "a = 5\n",
        "b = 8\n",
        "retangulo = a * b\n",
        "print(retangulo)\n"
      ],
      "execution_count": null,
      "outputs": [
        {
          "output_type": "stream",
          "name": "stdout",
          "text": [
            "40\n"
          ]
        }
      ]
    },
    {
      "cell_type": "markdown",
      "metadata": {
        "id": "9N4kTvJwXuYD"
      },
      "source": [
        "## Lista de compras\n",
        "Abaixo você encontrará a lista de compras que trabalharemos nos próximos exercícios.\n",
        "\n",
        "**Rode a célula contento a lista `lista_compras` antes de continuar**\n",
        "\n",
        "### Faça os exercícios de **2** a **5** com essa lista."
      ]
    },
    {
      "cell_type": "code",
      "metadata": {
        "id": "MMqmuyTqVfB5"
      },
      "source": [
        "#Rode essa célula\n",
        "\n",
        "lista_compras = ['Arroz', 'Feijão', 'Óleo', 'Sal', 'Açúcar','Café', 'Macarrão',\n",
        "                'Milho', 'Farinha de trigo','Leite', 'Manteiga', 'Ovos']"
      ],
      "execution_count": null,
      "outputs": []
    },
    {
      "cell_type": "markdown",
      "metadata": {
        "id": "eQiH-aHdYY9n"
      },
      "source": [
        "### 2) Guarde na variável `quinto_elemento` o quinto elemento da lista `lista_compras`\n",
        "\n",
        "**Dica:** Lembre-se. que o Python começa a contar à partir do zero"
      ]
    },
    {
      "cell_type": "code",
      "metadata": {
        "id": "VxePnqKhWUpY",
        "colab": {
          "base_uri": "https://localhost:8080/"
        },
        "outputId": "853e7d93-89dc-407a-e8ad-a1e8da78ab05"
      },
      "source": [
        "quinto_elemento = lista_compras[5]\n",
        "print(quinto_elemento)\n",
        "\n"
      ],
      "execution_count": null,
      "outputs": [
        {
          "output_type": "stream",
          "name": "stdout",
          "text": [
            "Café\n"
          ]
        }
      ]
    },
    {
      "cell_type": "markdown",
      "metadata": {
        "id": "aPyWPEosYx92"
      },
      "source": [
        "### 3) Guarde na variável `primeiros_itens` uma lista com os 6 primeiros itens da lista."
      ]
    },
    {
      "cell_type": "code",
      "metadata": {
        "id": "1hbvTd2jZB-H",
        "colab": {
          "base_uri": "https://localhost:8080/"
        },
        "outputId": "a9fb0896-94bc-48cc-d689-c1b081528469"
      },
      "source": [
        "primeiros_itens = lista_compras[:6]\n",
        "print(primeiros_itens)\n",
        "\n",
        "\n"
      ],
      "execution_count": null,
      "outputs": [
        {
          "output_type": "stream",
          "name": "stdout",
          "text": [
            "['Arroz', 'Feijão', 'Óleo', 'Sal', 'Açúcar', 'Café']\n"
          ]
        }
      ]
    },
    {
      "cell_type": "markdown",
      "metadata": {
        "id": "_R7FpM-ebzKr"
      },
      "source": [
        "### 4) Insira na lista já existente `lista_compras` o item: `'Batata'`"
      ]
    },
    {
      "cell_type": "code",
      "metadata": {
        "id": "JagsapKMbyEJ",
        "colab": {
          "base_uri": "https://localhost:8080/"
        },
        "outputId": "b71a2744-a3e5-4a26-91cb-ac8c14f883e4"
      },
      "source": [
        "lista_compras.append('batata')\n",
        "\n",
        "print(lista_compras)\n",
        "\n"
      ],
      "execution_count": null,
      "outputs": [
        {
          "output_type": "stream",
          "name": "stdout",
          "text": [
            "['Arroz', 'Feijão', 'Óleo', 'Sal', 'Açúcar', 'Café', 'Macarrão', 'Milho', 'Farinha de trigo', 'Leite', 'Manteiga', 'Ovos', 'batata']\n"
          ]
        }
      ]
    },
    {
      "cell_type": "markdown",
      "metadata": {
        "id": "wFrIAHX2ed6u"
      },
      "source": [
        "### 5) Guarde na variável `quantidade_compras` a quantidade de elementos da lista `lista_compras`\n",
        "\n",
        "**Dica:** você pode utilizar a função `len()`"
      ]
    },
    {
      "cell_type": "code",
      "metadata": {
        "id": "0Xeg8iebedZl",
        "colab": {
          "base_uri": "https://localhost:8080/"
        },
        "outputId": "1901fc41-490b-45fb-be1c-d72aded6f62a"
      },
      "source": [
        "quantidade_compras = len(lista_compras)\n",
        "print(quantidade_compras)\n"
      ],
      "execution_count": null,
      "outputs": [
        {
          "output_type": "stream",
          "name": "stdout",
          "text": [
            "13\n"
          ]
        }
      ]
    },
    {
      "cell_type": "markdown",
      "metadata": {
        "id": "4D7_UovOcNf_"
      },
      "source": [
        "## Lista de preços\n",
        "Abaixo você encontrará uma lista de preços que trabalharemos nos próximos exercícios.\n",
        "\n",
        "**Rode a célula contento a lista `lista_precos` antes de continuar**\n",
        "\n",
        "### Faça os exercícios de **6** e **7** com essa lista."
      ]
    },
    {
      "cell_type": "code",
      "metadata": {
        "id": "Ot-96E3idKfq"
      },
      "source": [
        "#Rode essa célula\n",
        "\n",
        "lista_precos = [30.5, 20.2, 19.99, 9.99, 192.10, 81,10, 42.42]"
      ],
      "execution_count": null,
      "outputs": []
    },
    {
      "cell_type": "markdown",
      "metadata": {
        "id": "Dvz6sNYPeJXy"
      },
      "source": [
        "### 6) Guarde na variável `total` a soma total da lista `lista_precos`"
      ]
    },
    {
      "cell_type": "code",
      "metadata": {
        "id": "EIRuRIKtd6bp",
        "colab": {
          "base_uri": "https://localhost:8080/"
        },
        "outputId": "1f3371cb-9d0d-4313-dd52-3a2c0f643212"
      },
      "source": [
        "total = sum([30.5, 20.2, 19.99, 9.99, 192.10, 81, 10, 42.42])\n",
        "\n",
        "total\n",
        "\n"
      ],
      "execution_count": null,
      "outputs": [
        {
          "output_type": "execute_result",
          "data": {
            "text/plain": [
              "406.2"
            ]
          },
          "metadata": {},
          "execution_count": 25
        }
      ]
    },
    {
      "cell_type": "code",
      "metadata": {
        "colab": {
          "base_uri": "https://localhost:8080/"
        },
        "id": "eh7pNKzFbNLl",
        "outputId": "9f789c5a-f5f8-4bdc-c604-43b460957736"
      },
      "source": [
        "total = sum(lista_precos)\n",
        "print(total)\n"
      ],
      "execution_count": null,
      "outputs": [
        {
          "output_type": "stream",
          "name": "stdout",
          "text": [
            "406.2\n"
          ]
        }
      ]
    },
    {
      "cell_type": "markdown",
      "metadata": {
        "id": "0kdbvC4shDpE"
      },
      "source": [
        "### 7) Guarde na variável `precos_dobro` uma nova lista que seja a lista `lista_precos` com seus elementos multiplicados por 2.\n",
        "\n",
        "**Dica:** utilize **list comprehension**"
      ]
    },
    {
      "cell_type": "code",
      "metadata": {
        "id": "B_YfYTQshVD4",
        "colab": {
          "base_uri": "https://localhost:8080/"
        },
        "outputId": "d27a9adf-1205-4dd7-ec04-402ff01103ed"
      },
      "source": [
        "#Coloque sua resposta aqui\n",
        "precos_dobro = []\n",
        "for elemento in lista_precos:\n",
        "  elemento = elemento * 2\n",
        "  precos_dobro.append(elemento)\n",
        "print(precos_dobro)"
      ],
      "execution_count": null,
      "outputs": [
        {
          "output_type": "stream",
          "name": "stdout",
          "text": [
            "[61.0, 40.4, 39.98, 19.98, 384.2, 162, 20, 84.84]\n"
          ]
        }
      ]
    },
    {
      "cell_type": "code",
      "metadata": {
        "colab": {
          "base_uri": "https://localhost:8080/"
        },
        "id": "droVEkjHPI9i",
        "outputId": "e7c9e8e7-afbb-4028-d9a8-731b2209179c"
      },
      "source": [
        "precos_dobro = []\n",
        "for lp in lista_precos:\n",
        "  lp = lp * 2\n",
        "  precos_dobro.append(lp)\n",
        "print(precos_dobro)"
      ],
      "execution_count": null,
      "outputs": [
        {
          "output_type": "stream",
          "name": "stdout",
          "text": [
            "[61.0, 40.4, 39.98, 19.98, 384.2, 162, 20, 84.84]\n"
          ]
        }
      ]
    },
    {
      "cell_type": "markdown",
      "metadata": {
        "id": "dnt6wgchhqd3"
      },
      "source": [
        "### Dicionários\n",
        "\n",
        "A **Escala de Scoville** é usda para medir o grau de ardência das pimentas. Preparamos um dicionário com o nome da pimenta e sua respectiva ardência em unidades Scoville.\n",
        "\n",
        "**Rode a célula contento o dicionário de `pimentas` antes de continuar**\n",
        "\n",
        "### Faça os exercícios de **8** e **9** seguintes operações com o dicionário `pimentas`"
      ]
    },
    {
      "cell_type": "code",
      "metadata": {
        "id": "IAYEqNC3hqPP"
      },
      "source": [
        "#Rode essa célula\n",
        "pimentas = {\n",
        "    'Pimentão': 0,\n",
        "    'Pepperoncini': 300,\n",
        "    'Molho Tabasco Jalapenho': 700,\n",
        "    'Pimenta Anaheim': 750\t,\n",
        "    'Pimenta Poblano': 1250,\n",
        "    'Pimenta Rocotillo': 2000,\n",
        "    'Molho Tabasco': 3750,\n",
        "    'Pimenta Jalapeño': 5250,\n",
        "    'Wax Pepper': 7500,\n",
        "    'Molho Tabasco Habanero': 7500,\n",
        "    'Pimenta Dedo de Moça': 10000,\n",
        "    'Pimenta Serrano': 16500,\n",
        "    'Pimenta Malagueta': 75000,\n",
        "    'Jamaican Hot Pepper': 150000,\n",
        "    'Habanero Chili': 225000,\n",
        "    'Pimenta de Chili Scotch Bonnet': 225000,\n",
        "    'Habanero Chili Red Savina': 463500,\n",
        "    'Dorset Naga': 923000,\n",
        "    'Pimenta Naga Bhut Jolokia': 927500,\n",
        "    'Pimenta Infinity Chilli': 1000000,\n",
        "    'Pimenta Naga Viper': 1300000,\n",
        "    'Pimenta Trinidad Scorpion Butch T': 1604615,\n",
        "    'Vicnic-1313': 1820000,\n",
        "    'Carolina Reaper': 1884650\n",
        "}"
      ],
      "execution_count": null,
      "outputs": []
    },
    {
      "cell_type": "markdown",
      "metadata": {
        "id": "Io-cd2kFh0jA"
      },
      "source": [
        "### 8) Guarde na variável `quente` o valor de ardência da pimenta `Carolina Reaper`"
      ]
    },
    {
      "cell_type": "code",
      "metadata": {
        "id": "oEikopPRhwS5",
        "colab": {
          "base_uri": "https://localhost:8080/"
        },
        "outputId": "59fbbef7-d1ba-45ef-e127-d83878ac6331"
      },
      "source": [
        "#Coloque sua resposta aqui\n",
        "\n",
        "quente = {pimentas['Carolina Reaper']}\n",
        "print(quente)"
      ],
      "execution_count": null,
      "outputs": [
        {
          "output_type": "stream",
          "name": "stdout",
          "text": [
            "{1884650}\n"
          ]
        }
      ]
    },
    {
      "cell_type": "markdown",
      "metadata": {
        "id": "GAPvS9H7ivat"
      },
      "source": [
        "### 9) Insira no dicionário `pimentas` este novo par: `'Pimenta Caiena': 40000`\n",
        "**Atenção** não recrie o dicionário, apenas adicione o elemento no dicionário existente"
      ]
    },
    {
      "cell_type": "code",
      "metadata": {
        "id": "TfoliRNWi3ca"
      },
      "source": [
        "#Coloque sua resposta aqui\n",
        "pimentas['Pimenta Caiena'] = 40000\n"
      ],
      "execution_count": null,
      "outputs": []
    },
    {
      "cell_type": "code",
      "metadata": {
        "colab": {
          "base_uri": "https://localhost:8080/"
        },
        "id": "fT68ochLYKBl",
        "outputId": "7b51ec76-6041-46b2-cb56-32bbbd44cba8"
      },
      "source": [
        "pimentas['Pimenta Caiena'] = 40000\n",
        "print(pimentas)"
      ],
      "execution_count": null,
      "outputs": [
        {
          "output_type": "stream",
          "name": "stdout",
          "text": [
            "{'Pimentão': 0, 'Pepperoncini': 300, 'Molho Tabasco Jalapenho': 700, 'Pimenta Anaheim': 750, 'Pimenta Poblano': 1250, 'Pimenta Rocotillo': 2000, 'Molho Tabasco': 3750, 'Pimenta Jalapeño': 5250, 'Wax Pepper': 7500, 'Molho Tabasco Habanero': 7500, 'Pimenta Dedo de Moça': 10000, 'Pimenta Serrano': 16500, 'Pimenta Malagueta': 75000, 'Jamaican Hot Pepper': 150000, 'Habanero Chili': 225000, 'Pimenta de Chili Scotch Bonnet': 225000, 'Habanero Chili Red Savina': 463500, 'Dorset Naga': 923000, 'Pimenta Naga Bhut Jolokia': 927500, 'Pimenta Infinity Chilli': 1000000, 'Pimenta Naga Viper': 1300000, 'Pimenta Trinidad Scorpion Butch T': 1604615, 'Vicnic-1313': 1820000, 'Carolina Reaper': 1884650, 'Pimenta Caiena': 40000}\n"
          ]
        }
      ]
    },
    {
      "cell_type": "markdown",
      "metadata": {
        "id": "bXI8ey3GxGDR"
      },
      "source": [
        "## Funções e condicionais\n",
        "\n",
        "### 10) Queremos selecionar palavras acima de 10 caracteres. Vamos criar uma função `calcular_palavra` que recebe uma palavra como parâmetro e tenha o retorno de acordo com a tabela abaixo\n",
        "\n",
        "| Tamanho da palavra (em caracteres)  | Retorno       |\n",
        "|-----------------|----------------|\n",
        "| Abaixo de 10  | Tente uma palavra maior |\n",
        "| Entre 11 e 20 | Boa palavra    |\n",
        "| Acima de 21   | Uau!|\n",
        "\n",
        "**Dica 1:** Neste exercício você precisa usar tanto `def` para construir função quanto o `if` para fazer a lógica condicional. (Ex.: `def calcular_palavra(palavra):`)\n",
        "\n",
        "**Dica 2:** Se a função que você constuiu está correta você terá o seguinte resultado para o código abaixo:<br>\n",
        "`calcular_palavra('eu')`<br>\n",
        "-- **`'Tente uma palavra maior'`**<br>\n",
        "\n",
        "`calcular_palavra('documentação')`<br>\n",
        "-- **`'Boa palavra'`**<br>\n",
        "\n",
        "**Dica 3:** Você pode usar a função `len()` para calcular o tamanho de uma palavra, Ex.:<br>\n",
        "`len('Python')`<br>\n",
        "-- **6** "
      ]
    },
    {
      "cell_type": "code",
      "metadata": {
        "id": "f4ZPwraEi1Xj"
      },
      "source": [
        "#Coloque sua resposta aqui\n",
        "def calcular_palavra():\n",
        "  if calcular_palavra  <=9:\n",
        "    print(len('Tente uma palavra maior'))\n",
        "  elif calcular_palavra ==11 <=20:\n",
        "      print(len('Boa palavra'))\n",
        "  elif calcular_palavra >=21:\n",
        "        print(len('Ual!'))\n",
        "\n"
      ],
      "execution_count": null,
      "outputs": []
    },
    {
      "cell_type": "markdown",
      "metadata": {
        "id": "9dFl11id2sEY"
      },
      "source": [
        "### Com base na sua função faça os exercícios de **11** a **13**:\n",
        "\n",
        "### 11) Guarde na variável `palavra1` o retorno da função `calcular_palavra` para a palavra **educação**:"
      ]
    },
    {
      "cell_type": "code",
      "metadata": {
        "id": "9MvWmNDb2sYe"
      },
      "source": [
        "#Coloque sua resposta aqui\n",
        "\n"
      ],
      "execution_count": null,
      "outputs": []
    },
    {
      "cell_type": "code",
      "metadata": {
        "id": "ADEeVLpukNaV",
        "colab": {
          "base_uri": "https://localhost:8080/",
          "height": 163
        },
        "outputId": "ed958703-aba4-4a94-99a9-754d0f399cd9"
      },
      "source": [
        "palavra1 = calcular_palavra('educação')\n"
      ],
      "execution_count": null,
      "outputs": [
        {
          "output_type": "error",
          "ename": "TypeError",
          "evalue": "ignored",
          "traceback": [
            "\u001b[0;31m---------------------------------------------------------------------------\u001b[0m",
            "\u001b[0;31mTypeError\u001b[0m                                 Traceback (most recent call last)",
            "\u001b[0;32m<ipython-input-50-6c5567a30c0e>\u001b[0m in \u001b[0;36m<module>\u001b[0;34m()\u001b[0m\n\u001b[0;32m----> 1\u001b[0;31m \u001b[0mpalavra1\u001b[0m \u001b[0;34m=\u001b[0m \u001b[0mcalcular_palavra\u001b[0m\u001b[0;34m(\u001b[0m\u001b[0;34m'educação'\u001b[0m\u001b[0;34m)\u001b[0m\u001b[0;34m\u001b[0m\u001b[0;34m\u001b[0m\u001b[0m\n\u001b[0m",
            "\u001b[0;31mTypeError\u001b[0m: calcular_palavra() takes 0 positional arguments but 1 was given"
          ]
        }
      ]
    },
    {
      "cell_type": "markdown",
      "metadata": {
        "id": "r4DRPtAu4WOO"
      },
      "source": [
        "### 12) Guarde na variável `palavra2` o retorno da função `calcular_palavra` para a palavra **chave**:"
      ]
    },
    {
      "cell_type": "code",
      "metadata": {
        "id": "-GJuIN-z4hFW"
      },
      "source": [
        "#Coloque sua resposta aqui\n",
        "\n"
      ],
      "execution_count": null,
      "outputs": []
    },
    {
      "cell_type": "markdown",
      "metadata": {
        "id": "oKT3RvQP4hvI"
      },
      "source": [
        "### 13) Guarde na variável `palavra3` o retorno da função `calcular_palavra` para a palavra **inconstitucionalidades**:"
      ]
    },
    {
      "cell_type": "code",
      "metadata": {
        "id": "ZTnYO0iw4uB2"
      },
      "source": [
        "#Coloque sua resposta aqui\n",
        "\n"
      ],
      "execution_count": null,
      "outputs": []
    },
    {
      "cell_type": "markdown",
      "metadata": {
        "id": "21MgEzPL40tO"
      },
      "source": [
        "## Pandas\n",
        "#### Faça o download do `.csv` abaixo e faça a leitura dele no `pandas` guarde-a na variável `gorjetas`\n",
        "\n",
        "[Arquivo para download](https://drive.google.com/file/d/18f43p3FPmzRqN-I5S03U5pn6wdburrZQ/view?usp=sharing)\n",
        "\n",
        "**Dica 1:** Não se esqueça de importar a biblioteca pandas<br>\n",
        "**Dica 2:** Leia o material da aula de pandas para aprender como importar um arquivo para ser usado no Google Colab"
      ]
    },
    {
      "cell_type": "markdown",
      "metadata": {
        "id": "SdtI8xLv5Upe"
      },
      "source": [
        "### Faça os exercícios de **14** a **16** com o DataDrame `gorjetas`\n",
        "\n",
        "### 14) Guarde na variável `media_contas` o valor da média da colula **total**"
      ]
    },
    {
      "cell_type": "code",
      "metadata": {
        "id": "UOYsZR1l44ex",
        "colab": {
          "base_uri": "https://localhost:8080/"
        },
        "outputId": "f574328d-44c4-4cd8-f995-3ee55871909f"
      },
      "source": [
        "#Coloque sua resposta aqui\n",
        "\n",
        "import pandas as pd\n",
        "gorjetas = pd.read_csv('gorjeta.csv')\n",
        "\n",
        "media_contas = pd.DataFrame(gorjetas)\n",
        "print('Média da coluna Total:')\n",
        "print(media_contas['total'].mean())\n",
        "\n"
      ],
      "execution_count": null,
      "outputs": [
        {
          "output_type": "stream",
          "name": "stdout",
          "text": [
            "Média da coluna Total:\n",
            "19.785942622950824\n"
          ]
        }
      ]
    },
    {
      "cell_type": "markdown",
      "metadata": {
        "id": "mYzQb1mw5ch8"
      },
      "source": [
        "### 15) Guarde na variável `max_tamanho` o maior valor da colula **tamanho**\n"
      ]
    },
    {
      "cell_type": "code",
      "metadata": {
        "id": "T5JF72aW5XD0",
        "colab": {
          "base_uri": "https://localhost:8080/"
        },
        "outputId": "f412aa10-3705-426b-f532-c2c76313e7e1"
      },
      "source": [
        "#Coloque sua resposta aqui\n",
        "\n",
        "max_tamanho = pd.DataFrame(gorjetas)\n",
        "print('Maior valor da coluna tamanho:')\n",
        "print(gorjetas['tamanho'].max())\n"
      ],
      "execution_count": null,
      "outputs": [
        {
          "output_type": "stream",
          "name": "stdout",
          "text": [
            "Maior valor da coluna tamanho:\n",
            "6\n"
          ]
        }
      ]
    },
    {
      "cell_type": "markdown",
      "metadata": {
        "id": "tS9pDw8m5hm8"
      },
      "source": [
        "### 16) Guarde na variável `min_gorjeta` o menor valor da colula **gorjeta**"
      ]
    },
    {
      "cell_type": "code",
      "metadata": {
        "id": "YwBWUNKw5iTZ",
        "colab": {
          "base_uri": "https://localhost:8080/"
        },
        "outputId": "d3c7a591-1a3f-40b6-a2f1-6a9330e541f8"
      },
      "source": [
        "#Coloque sua resposta aqui\n",
        "\n",
        "min_gorjeta = pd.DataFrame(gorjetas)\n",
        "print('Menor valor da coluna gorjeta:')\n",
        "print(gorjetas['gorjeta'].min())"
      ],
      "execution_count": null,
      "outputs": [
        {
          "output_type": "stream",
          "name": "stdout",
          "text": [
            "Menor valor da coluna gorjeta:\n",
            "1.0\n"
          ]
        }
      ]
    },
    {
      "cell_type": "markdown",
      "metadata": {
        "id": "UxqBG_il5tip"
      },
      "source": [
        "## Debugging\n",
        "### 17) Encontre e arrume o erro do código abaixo:"
      ]
    },
    {
      "cell_type": "code",
      "metadata": {
        "colab": {
          "base_uri": "https://localhost:8080/"
        },
        "id": "e5LjSxJa5wfU",
        "outputId": "28e8d71d-3cdf-47c1-dfe7-b1c0c975ca25"
      },
      "source": [
        "idades = {\n",
        "    'Michael Scott': 43,\n",
        "    'Pam Beesly': 24,\n",
        "    'Jim Halpert': 25\n",
        "}\n",
        "\n",
        "michael = (f'Michael Scott tem {idades[\"Michael Scott\"]} anos de idade.')\n",
        "print(michael)"
      ],
      "execution_count": null,
      "outputs": [
        {
          "output_type": "stream",
          "name": "stdout",
          "text": [
            "Michael Scott tem 43 anos de idade.\n"
          ]
        }
      ]
    },
    {
      "cell_type": "code",
      "metadata": {
        "id": "2CRGNPfZ54MS"
      },
      "source": [
        ""
      ],
      "execution_count": null,
      "outputs": []
    }
  ]
}